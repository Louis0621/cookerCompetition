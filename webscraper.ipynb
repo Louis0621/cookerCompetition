{
 "cells": [
  {
   "cell_type": "code",
   "execution_count": 29,
   "metadata": {},
   "outputs": [],
   "source": [
    "from selenium import webdriver\n",
    "from selenium.webdriver.common.by import By\n",
    "from selenium.webdriver.common.keys import Keys\n",
    "from selenium.webdriver.chrome.service import Service\n",
    "from selenium.webdriver.chrome.options import Options\n",
    "from webdriver_manager.chrome import ChromeDriverManager\n",
    "import time\n",
    "import re\n",
    "\n",
    "from selenium.webdriver.common.action_chains import ActionChains\n",
    "# Set up Selenium WebDriver\n",
    "chrome_options = Options()\n",
    "chrome_options.add_argument(\"--headless\")  # run in headless mode\n",
    "chrome_options.add_argument(\"--no-sandbox\")  # bypass OS security model\n",
    "chrome_options.add_argument(\"--disable-dev-shm-usage\")  # overcome limited resource problems\n",
    "chrome_options.add_argument(\"--disable-gpu\")  # applicable to windows os only\n",
    "chrome_options.add_argument(\"start-maximized\")  # open Browser in maximized mode\n",
    "chrome_options.add_argument(\"disable-infobars\")  # disabling infobars\n",
    "chrome_options.add_argument(\"--disable-extensions\")  # disabling extensions\n",
    "\n",
    "\n",
    "def scraperLoop(key, text_list, driver, numberOfObjects, time_of_waiting = 4):\n",
    "    \n",
    "    time.sleep(1)\n",
    "    chat_xpath = '/html/body/div/div[1]/div/div[2]/div/form/div/div/textarea'\n",
    "    chat_input = driver.find_element(By.XPATH, chat_xpath)\n",
    "    chat_input.send_keys(f'Could you give me {numberOfObjects} synonyms of {key} in Mandarin? Without any spaces. Just words. No yapping')\n",
    "    chat_input.send_keys(Keys.RETURN)\n",
    "    time.sleep(time_of_waiting)\n",
    "    for i in range(20):\n",
    "        try: \n",
    "            fetch_xpath = '/html/body/div/div[1]/div/div[1]/div/div[2]/div[1]'\n",
    "            fetch_output = driver.find_element(By.XPATH, fetch_xpath)\n",
    "            text_list[key] = re.split(r\"[.\\s,，。]+\", fetch_output.text)\n",
    "            break\n",
    "        except Exception as e:\n",
    "            time.sleep(1)\n",
    "    new_chat_xpath = '/html/body/div/div[1]/nav[3]/div[1]/a[2]'\n",
    "    new_chat_entry = driver.find_element(By.XPATH, new_chat_xpath)\n",
    "    new_chat_entry.click()"
   ]
  },
  {
   "cell_type": "code",
   "execution_count": 30,
   "metadata": {},
   "outputs": [],
   "source": [
    "\n",
    "driver = webdriver.Chrome(service=Service(ChromeDriverManager().install()), options=chrome_options)\n",
    "time.sleep(1)\n",
    "driver.get(\"https://twllm.com/\")\n",
    "\n",
    "b1_xpath = '/html/body/div[2]/div/div/div/div/button'\n",
    "b1_input = driver.find_element(By.XPATH, b1_xpath)\n",
    "b1_input.click()\n",
    "\n",
    "text_key = ['好', '不好', '大']\n",
    "text_list = {}\n",
    "\n",
    "for key in text_key:\n",
    "    \n",
    "    scraperLoop(key, text_list, driver, 10)\n",
    "driver.quit()\n"
   ]
  },
  {
   "cell_type": "code",
   "execution_count": null,
   "metadata": {},
   "outputs": [],
   "source": []
  }
 ],
 "metadata": {
  "kernelspec": {
   "display_name": "base",
   "language": "python",
   "name": "python3"
  },
  "language_info": {
   "codemirror_mode": {
    "name": "ipython",
    "version": 3
   },
   "file_extension": ".py",
   "mimetype": "text/x-python",
   "name": "python",
   "nbconvert_exporter": "python",
   "pygments_lexer": "ipython3",
   "version": "3.11.5"
  }
 },
 "nbformat": 4,
 "nbformat_minor": 2
}
