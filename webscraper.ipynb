{
 "cells": [
  {
   "cell_type": "code",
   "execution_count": null,
   "metadata": {},
   "outputs": [],
   "source": [
    "from selenium import webdriver\n",
    "from selenium.webdriver.common.by import By\n",
    "from selenium.webdriver.common.keys import Keys\n",
    "from selenium.webdriver.chrome.service import Service\n",
    "from selenium.webdriver.chrome.options import Options\n",
    "from webdriver_manager.chrome import ChromeDriverManager\n",
    "import time\n",
    "from copy import deepcopy\n",
    "import re\n",
    "import pickle\n",
    "# Set up Selenium WebDriver\n",
    "chrome_options = Options()\n",
    "chrome_options.add_argument(\"--headless\")  # run in headless mode\n",
    "chrome_options.add_argument(\"--no-sandbox\")  # bypass OS security model\n",
    "chrome_options.add_argument(\"--disable-dev-shm-usage\")  # overcome limited resource problems\n",
    "chrome_options.add_argument(\"--disable-gpu\")  # applicable to windows os only\n",
    "chrome_options.add_argument(\"start-maximized\")  # open Browser in maximized mode\n",
    "chrome_options.add_argument(\"disable-infobars\")  # disabling infobars\n",
    "chrome_options.add_argument(\"--disable-extensions\")  # disabling extensions\n",
    "\n",
    "\n",
    "def scraperLoop(key, text_list, driver, numberOfObjects, special_word = '', time_of_waiting = 4):\n",
    "    \n",
    "    time.sleep(1)\n",
    "    chat_xpath = '/html/body/div/div[1]/div/div[2]/div/form/div/div/textarea'\n",
    "    chat_input = driver.find_element(By.XPATH, chat_xpath)\n",
    "    chat_input.send_keys(f'{numberOfObjects}個{key}的同義詞？ {special_word} 用空格分開')\n",
    "    chat_input.send_keys(Keys.RETURN)\n",
    "    time.sleep(time_of_waiting)\n",
    "    for i in range(20):\n",
    "        try: \n",
    "            fetch_xpath = '/html/body/div/div[1]/div/div[1]/div/div[2]/div[1]'\n",
    "            fetch_output = driver.find_element(By.XPATH, fetch_xpath)\n",
    "            output = re.sub(r\"[（.*?）0-9a-zA-Z]\", '', fetch_output.text)\n",
    "            text_list[key] = re.split(r\"[.\\s,，、。]+\", output)\n",
    "            break\n",
    "        except Exception as e:\n",
    "            time.sleep(1)\n",
    "    new_chat_xpath = '/html/body/div/div[1]/nav[3]/div[1]/a[2]'\n",
    "    new_chat_entry = driver.find_element(By.XPATH, new_chat_xpath)\n",
    "    new_chat_entry.click()"
   ]
  },
  {
   "cell_type": "code",
   "execution_count": 50,
   "metadata": {},
   "outputs": [],
   "source": [
    "\n",
    "driver = webdriver.Chrome(service=Service(ChromeDriverManager().install()), options=chrome_options)\n",
    "time.sleep(1)\n",
    "driver.get(\"https://twllm.com/\")\n",
    "\n",
    "b1_xpath = '/html/body/div[2]/div/div/div/div/button'\n",
    "b1_input = driver.find_element(By.XPATH, b1_xpath)\n",
    "b1_input.click()\n",
    "\n",
    "target_map = {\n",
    "    'price_synonums': {'高(形容物品價格)': [], '還好(形容物品價格)': [], '低(形容物品價格)': []},\n",
    "    'size_synonyms': {'大(形容電鍋容量)': [], '剛剛好(形容電鍋容量)': [], '小(形容電鍋容量)': []},\n",
    "    'color_synonyms': {'白色': [], '紅色': [], '黑色': []},\n",
    "\n",
    "}\n",
    "\n",
    "for synonym_key, data in target_map.items():\n",
    "    for key, val in data.items():\n",
    "        scraperLoop(key, target_map[synonym_key], driver, 10)\n",
    "\n",
    "driver.quit()"
   ]
  },
  {
   "cell_type": "code",
   "execution_count": 53,
   "metadata": {},
   "outputs": [],
   "source": [
    "\n",
    "actual_map = {}\n",
    "for sy_key, sy_map in target_map.items():\n",
    "    if sy_key == '': continue\n",
    "    actual_map[sy_key] = {}\n",
    "    for key, val in sy_map.items():\n",
    "        for subval in val:\n",
    "            if subval == '': continue\n",
    "            actual_map[sy_key][subval] = key\n"
   ]
  },
  {
   "cell_type": "code",
   "execution_count": 57,
   "metadata": {},
   "outputs": [],
   "source": [
    "with open('feature_map.plk', 'rb') as f:\n",
    "    old_map = pickle.load(f)\n"
   ]
  },
  {
   "cell_type": "code",
   "execution_count": null,
   "metadata": {},
   "outputs": [],
   "source": [
    "old_map.update(actual_map)\n",
    "with open('feature_map.plk', 'wb') as f:\n",
    "    pickle.dump(old_map, f)"
   ]
  }
 ],
 "metadata": {
  "kernelspec": {
   "display_name": "base",
   "language": "python",
   "name": "python3"
  },
  "language_info": {
   "codemirror_mode": {
    "name": "ipython",
    "version": 3
   },
   "file_extension": ".py",
   "mimetype": "text/x-python",
   "name": "python",
   "nbconvert_exporter": "python",
   "pygments_lexer": "ipython3",
   "version": "3.11.5"
  }
 },
 "nbformat": 4,
 "nbformat_minor": 2
}
