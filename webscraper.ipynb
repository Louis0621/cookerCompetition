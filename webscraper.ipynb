{
 "cells": [
  {
   "cell_type": "code",
<<<<<<< HEAD
   "execution_count": null,
=======
   "execution_count": 6,
>>>>>>> 71fbba39eb5528886cb8a9a9f11ec80842d25861
   "metadata": {},
   "outputs": [],
   "source": [
    "from selenium import webdriver\n",
    "from selenium.webdriver.common.by import By\n",
    "from selenium.webdriver.common.keys import Keys\n",
    "from selenium.webdriver.chrome.service import Service\n",
    "from selenium.webdriver.chrome.options import Options\n",
    "from webdriver_manager.chrome import ChromeDriverManager\n",
    "import time\n",
    "from copy import deepcopy\n",
    "import re\n",
    "import pickle\n",
    "# Set up Selenium WebDriver\n",
    "chrome_options = Options()\n",
    "chrome_options.add_argument(\"--headless\")  # run in headless mode\n",
    "chrome_options.add_argument(\"--no-sandbox\")  # bypass OS security model\n",
    "chrome_options.add_argument(\"--disable-dev-shm-usage\")  # overcome limited resource problems\n",
    "chrome_options.add_argument(\"--disable-gpu\")  # applicable to windows os only\n",
    "chrome_options.add_argument(\"start-maximized\")  # open Browser in maximized mode\n",
    "chrome_options.add_argument(\"disable-infobars\")  # disabling infobars\n",
    "chrome_options.add_argument(\"--disable-extensions\")  # disabling extensions\n",
    "\n",
    "\n",
    "def scraperLoop(key, text_list, driver, numberOfObjects, special_word = '', time_of_waiting = 4):\n",
    "    \n",
    "    time.sleep(1)\n",
    "    chat_xpath = '/html/body/div/div[1]/div/div[2]/div/form/div/div/textarea'\n",
    "    chat_input = driver.find_element(By.XPATH, chat_xpath)\n",
    "    chat_input.send_keys(f'{numberOfObjects}個{key}的同義詞？ {special_word} 用空格分開')\n",
    "    chat_input.send_keys(Keys.RETURN)\n",
    "    time.sleep(time_of_waiting)\n",
    "    for i in range(20):\n",
    "        try: \n",
    "            fetch_xpath = '/html/body/div/div[1]/div/div[1]/div/div[2]/div[1]'\n",
    "            fetch_output = driver.find_element(By.XPATH, fetch_xpath)\n",
    "            output = re.sub(r\"[（.*?）0-9a-zA-Z]\", '', fetch_output.text)\n",
    "            text_list[key] = re.split(r\"[.\\s,，、。]+\", output)\n",
    "            break\n",
    "        except Exception as e:\n",
    "            time.sleep(1)\n",
    "    new_chat_xpath = '/html/body/div/div[1]/nav[3]/div[1]/a[2]'\n",
    "    new_chat_entry = driver.find_element(By.XPATH, new_chat_xpath)\n",
    "    new_chat_entry.click()"
   ]
  },
  {
   "cell_type": "code",
<<<<<<< HEAD
   "execution_count": 50,
=======
   "execution_count": 11,
>>>>>>> 71fbba39eb5528886cb8a9a9f11ec80842d25861
   "metadata": {},
   "outputs": [],
   "source": [
    "\n",
    "driver = webdriver.Chrome(service=Service(ChromeDriverManager().install()), options=chrome_options)\n",
    "time.sleep(1)\n",
    "driver.get(\"https://twllm.com/\")\n",
    "\n",
    "b1_xpath = '/html/body/div[2]/div/div/div/div/button'\n",
    "b1_input = driver.find_element(By.XPATH, b1_xpath)\n",
    "b1_input.click()\n",
    "\n",
<<<<<<< HEAD
    "target_map = {\n",
    "    'price_synonums': {'高(形容物品價格)': [], '還好(形容物品價格)': [], '低(形容物品價格)': []},\n",
    "    'size_synonyms': {'大(形容電鍋容量)': [], '剛剛好(形容電鍋容量)': [], '小(形容電鍋容量)': []},\n",
    "    'color_synonyms': {'白色': [], '紅色': [], '黑色': []},\n",
    "\n",
    "}\n",
    "\n",
    "for synonym_key, data in target_map.items():\n",
    "    for key, val in data.items():\n",
    "        scraperLoop(key, target_map[synonym_key], driver, 10)\n",
    "\n",
    "driver.quit()"
=======
    "text_key = ['白色', '紅色', '大(容量)','中(形容容量)','小', '舉例各種顏色']\n",
    "text_list = {}\n",
    "for i in range(len(text_key)):\n",
    "    key = text_key[i]\n",
    "    scraperLoop(key, text_list, driver, 10)\n",
    "driver.quit()\n"
>>>>>>> 71fbba39eb5528886cb8a9a9f11ec80842d25861
   ]
  },
  {
   "cell_type": "code",
<<<<<<< HEAD
   "execution_count": 53,
   "metadata": {},
   "outputs": [],
=======
   "execution_count": 10,
   "metadata": {},
   "outputs": [
    {
     "data": {
      "text/plain": [
       "{'白色': ['白色', '白皙', '純白', '雪白', '亮白', '淺色', '淡色', '粉飾', '無瑕疵', '無暇'],\n",
       " '紅色': ['紅色', '紅的', '赤色', '丹紅', '朱红', '大红', '洋红', '玫瑰红', '深红', '粉色'],\n",
       " '大(容量)': ['巨大', '容量大', '大容量', '大型', '容積大', '大規模', '可觀', '巨型', '高容量', '超大'],\n",
       " '中': ['在', '中文里', '\"中\"', '的同義詞和相似詞有：中心、中央、其中、當中、中間、中部、核心、中點、中途', ''],\n",
       " '小': ['小的', '小巧', '微小', '纖細', '迷你', '袖珍', '小型', '小巧玲瓏', '嬌小', '可愛'],\n",
       " '舉例各種顏色': ['舉例各種顏色：紅色、橙色、黃色、綠色、藍色、紫色、黑色、白色']}"
      ]
     },
     "execution_count": 10,
     "metadata": {},
     "output_type": "execute_result"
    }
   ],
>>>>>>> 71fbba39eb5528886cb8a9a9f11ec80842d25861
   "source": [
    "\n",
    "actual_map = {}\n",
    "for sy_key, sy_map in target_map.items():\n",
    "    if sy_key == '': continue\n",
    "    actual_map[sy_key] = {}\n",
    "    for key, val in sy_map.items():\n",
    "        for subval in val:\n",
    "            if subval == '': continue\n",
    "            actual_map[sy_key][subval] = key\n"
   ]
  },
  {
   "cell_type": "code",
   "execution_count": 57,
   "metadata": {},
   "outputs": [],
   "source": [
    "with open('feature_map.plk', 'rb') as f:\n",
    "    old_map = pickle.load(f)\n"
   ]
  },
  {
   "cell_type": "code",
   "execution_count": null,
   "metadata": {},
   "outputs": [],
   "source": [
    "old_map.update(actual_map)\n",
    "with open('feature_map.plk', 'wb') as f:\n",
    "    pickle.dump(old_map, f)"
   ]
  }
 ],
 "metadata": {
  "kernelspec": {
   "display_name": "base",
   "language": "python",
   "name": "python3"
  },
  "language_info": {
   "codemirror_mode": {
    "name": "ipython",
    "version": 3
   },
   "file_extension": ".py",
   "mimetype": "text/x-python",
   "name": "python",
   "nbconvert_exporter": "python",
   "pygments_lexer": "ipython3",
   "version": "3.9.18"
  }
 },
 "nbformat": 4,
 "nbformat_minor": 2
}
