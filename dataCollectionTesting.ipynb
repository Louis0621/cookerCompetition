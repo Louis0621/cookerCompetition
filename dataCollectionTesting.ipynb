{
 "cells": [
  {
   "cell_type": "code",
   "execution_count": 4,
   "metadata": {},
   "outputs": [
    {
     "name": "stderr",
     "output_type": "stream",
     "text": [
      "C:\\Users\\ss348\\AppData\\Roaming\\Python\\Python311\\site-packages\\pandas\\core\\arrays\\masked.py:60: UserWarning: Pandas requires version '1.3.6' or newer of 'bottleneck' (version '1.3.5' currently installed).\n",
      "  from pandas.core import (\n",
      "c:\\Users\\ss348\\anaconda3\\Lib\\site-packages\\transformers\\utils\\generic.py:260: UserWarning: torch.utils._pytree._register_pytree_node is deprecated. Please use torch.utils._pytree.register_pytree_node instead.\n",
      "  torch.utils._pytree._register_pytree_node(\n"
     ]
    }
   ],
   "source": [
    "import matplotlib.pyplot as plt\n",
    "import numpy as np\n",
    "import pandas as pd\n",
    "import torch\n",
    "import jieba"
   ]
  },
  {
   "cell_type": "markdown",
   "metadata": {},
   "source": [
    "<div>\n",
    "<h3>\n",
    "Data Collection Guidlines:\n",
    "</h3>\n",
    "<ul>\n",
    "    <li> Numerical features: 份數、溫度(低)\n",
    "    <br/>\n",
    "    <span>The input is cliped so there is no need for finding synonyms</span></li>\n",
    "    <li> Other features</li>\n",
    "</ul>\n",
    "</div>"
   ]
  },
  {
   "cell_type": "code",
   "execution_count": 28,
   "metadata": {},
   "outputs": [],
   "source": [
    "columns = ['容量', '價格', '份數', \"溫度(低)\", '大小', '贈品', '目標商品']\n",
    "template_data = [\n",
    "    ['大', '高', 6, 40, '大', True, 'Model_1'],\n",
    "    ['小', '中', 4, 40, '中', True, 'Model_2'],\n",
    "    ['中', '低', 5, 60, '小', False, 'Model_3']\n",
    "]\n",
    "pd.DataFrame(columns=columns, data=template_data)\n",
    "\n",
    "capacityFilter = lambda x: 6 if x >= 6 else (5 if x >= 4 else 4)\n",
    "tempFilter = lambda x: 60 if x > 50 else 40\n",
    "complimentaryMapper = {\n",
    "    \n",
    "}\n"
   ]
  }
 ],
 "metadata": {
  "kernelspec": {
   "display_name": "base",
   "language": "python",
   "name": "python3"
  },
  "language_info": {
   "codemirror_mode": {
    "name": "ipython",
    "version": 3
   },
   "file_extension": ".py",
   "mimetype": "text/x-python",
   "name": "python",
   "nbconvert_exporter": "python",
   "pygments_lexer": "ipython3",
   "version": "3.11.5"
  }
 },
 "nbformat": 4,
 "nbformat_minor": 2
}
